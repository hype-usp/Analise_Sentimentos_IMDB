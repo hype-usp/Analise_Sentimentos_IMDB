{
 "cells": [
  {
   "cell_type": "markdown",
   "id": "fd3a7253",
   "metadata": {},
   "source": [
    "# Importação das Bibliotecas"
   ]
  },
  {
   "cell_type": "code",
   "execution_count": 11,
   "id": "c11be424",
   "metadata": {},
   "outputs": [],
   "source": [
    "import pickle\n",
    "from pathlib import Path\n",
    "from sklearn.neighbors import KNeighborsClassifier\n",
    "from sklearn.metrics import classification_report, accuracy_score"
   ]
  },
  {
   "cell_type": "code",
   "execution_count": 12,
   "id": "167cbc3c",
   "metadata": {},
   "outputs": [],
   "source": [
    "# Definindo caminho padrão para o uso dos arquivos já vetorizados\n",
    "base_path = Path(\"../../../data/vectorized\")\n",
    "\n",
    "# Lista com os tipos de vetorização\n",
    "vectorizations = [\"bow\", \"ngram\", \"tfidf\"]"
   ]
  },
  {
   "cell_type": "markdown",
   "id": "ece0568c",
   "metadata": {},
   "source": [
    "# Definindo Funções para treino e avaliação do modelo"
   ]
  },
  {
   "cell_type": "code",
   "execution_count": 13,
   "id": "cc5a5149",
   "metadata": {},
   "outputs": [],
   "source": [
    "def load_pickle(file_path):\n",
    "    with open(file_path, \"rb\") as f:\n",
    "        return pickle.load(f)"
   ]
  },
  {
   "cell_type": "code",
   "execution_count": null,
   "id": "e076216f",
   "metadata": {},
   "outputs": [],
   "source": [
    "def train_and_evaluate_model(vectorization_type):\n",
    "    print(f\"\\n === Vetorização: {vectorization_type} ===\")\n",
    "    \n",
    "    folder = base_path / vectorization_type\n",
    "    vectorizer, X_train, X_test = load_pickle(folder / f\"{vectorization_type}.pkl\")\n",
    "    y_train = load_pickle(folder / f\"y_train_{vectorization_type}.pkl\")\n",
    "    y_test = load_pickle(folder / f\"y_test_{vectorization_type}.pkl\")\n",
    "\n",
    "    # Treinamento com teste para saber melhor K entre 1 e 20\n",
    "    best_k = None\n",
    "    best_score = 0\n",
    "    best_model = None\n",
    "    k_range = range(1, 21)\n",
    "\n",
    "    for k in k_range:\n",
    "        model = KNeighborsClassifier(n_neighbors=k)\n",
    "        model.fit(X_train, y_train)\n",
    "        score = model.score(X_test, y_test)\n",
    "\n",
    "        if score > best_score:\n",
    "            best_score = score\n",
    "            best_k = k\n",
    "            best_model = model\n",
    "\n",
    "    # Avaliação\n",
    "    y_pred = best_model.predict(X_test)\n",
    "    accuracy = accuracy_score(y_test, y_pred)\n",
    "    print(f\"Melhor valor de k: {best_k}\")\n",
    "    print(f\"Acurácia: {accuracy:.4f}\")\n",
    "    print(\"Relatório de Classificação:\\n\", classification_report(y_test, y_pred))\n"
   ]
  },
  {
   "cell_type": "code",
   "execution_count": 15,
   "id": "8d1e0e0d",
   "metadata": {},
   "outputs": [
    {
     "name": "stdout",
     "output_type": "stream",
     "text": [
      "\n",
      " === Vetorização: bow ===\n",
      "Melhor valor de k: 20\n",
      "Acurácia: 0.6836\n",
      "Relatório de Classificação:\n",
      "               precision    recall  f1-score   support\n",
      "\n",
      "    negative       0.67      0.72      0.69      4939\n",
      "    positive       0.70      0.65      0.67      4978\n",
      "\n",
      "    accuracy                           0.68      9917\n",
      "   macro avg       0.68      0.68      0.68      9917\n",
      "weighted avg       0.68      0.68      0.68      9917\n",
      "\n",
      "\n",
      " === Vetorização: ngram ===\n",
      "Melhor valor de k: 19\n",
      "Acurácia: 0.6733\n",
      "Relatório de Classificação:\n",
      "               precision    recall  f1-score   support\n",
      "\n",
      "    negative       0.66      0.72      0.69      4939\n",
      "    positive       0.69      0.63      0.66      4978\n",
      "\n",
      "    accuracy                           0.67      9917\n",
      "   macro avg       0.67      0.67      0.67      9917\n",
      "weighted avg       0.67      0.67      0.67      9917\n",
      "\n",
      "\n",
      " === Vetorização: tfidf ===\n",
      "Melhor valor de k: 20\n",
      "Acurácia: 0.7835\n",
      "Relatório de Classificação:\n",
      "               precision    recall  f1-score   support\n",
      "\n",
      "    negative       0.80      0.75      0.77      4939\n",
      "    positive       0.77      0.82      0.79      4978\n",
      "\n",
      "    accuracy                           0.78      9917\n",
      "   macro avg       0.78      0.78      0.78      9917\n",
      "weighted avg       0.78      0.78      0.78      9917\n",
      "\n"
     ]
    }
   ],
   "source": [
    "# Roda o treinamento e avaliação para cada vetorização\n",
    "for vec_type in vectorizations:\n",
    "    train_and_evaluate_model(vec_type)"
   ]
  }
 ],
 "metadata": {
  "kernelspec": {
   "display_name": "meu_ambiente",
   "language": "python",
   "name": "python3"
  },
  "language_info": {
   "codemirror_mode": {
    "name": "ipython",
    "version": 3
   },
   "file_extension": ".py",
   "mimetype": "text/x-python",
   "name": "python",
   "nbconvert_exporter": "python",
   "pygments_lexer": "ipython3",
   "version": "3.11.13"
  }
 },
 "nbformat": 4,
 "nbformat_minor": 5
}
