{
 "cells": [
  {
   "cell_type": "markdown",
   "id": "fd3a7253",
   "metadata": {},
   "source": [
    "# Importação das Bibliotecas"
   ]
  },
  {
   "cell_type": "code",
   "execution_count": 26,
   "id": "c11be424",
   "metadata": {},
   "outputs": [],
   "source": [
    "import pickle\n",
    "from pathlib import Path\n",
    "from sklearn.naive_bayes import MultinomialNB\n",
    "from sklearn.metrics import classification_report, accuracy_score"
   ]
  },
  {
   "cell_type": "code",
   "execution_count": 27,
   "id": "167cbc3c",
   "metadata": {},
   "outputs": [],
   "source": [
    "# Definindo caminho padrão para o uso dos arquivos já vetorizados\n",
    "base_path = Path(\"../../../data/vectorized\")\n",
    "\n",
    "# Lista com os tipos de vetorização\n",
    "vectorizations = [\"bow\", \"ngram\", \"tfidf\"]"
   ]
  },
  {
   "cell_type": "markdown",
   "id": "ece0568c",
   "metadata": {},
   "source": [
    "# Definindo Funções para treino e avaliação do modelo"
   ]
  },
  {
   "cell_type": "code",
   "execution_count": 28,
   "id": "cc5a5149",
   "metadata": {},
   "outputs": [],
   "source": [
    "def load_pickle(file_path):\n",
    "    with open(file_path, \"rb\") as f:\n",
    "        return pickle.load(f)"
   ]
  },
  {
   "cell_type": "code",
   "execution_count": null,
   "id": "e076216f",
   "metadata": {},
   "outputs": [],
   "source": [
    "def train_and_evaluate_model(vectorization_type):\n",
    "    print(f\"\\n === Vetorização: {vectorization_type} ===\")\n",
    "    \n",
    "    folder = base_path / vectorization_type\n",
    "    vectorizer, X_train, X_test = load_pickle(folder / f\"{vectorization_type}.pkl\")\n",
    "    y_train = load_pickle(folder / f\"y_train_{vectorization_type}.pkl\")\n",
    "    y_test = load_pickle(folder / f\"y_test_{vectorization_type}.pkl\")\n",
    "\n",
    "    # Treinamento\n",
    "    model = MultinomialNB()\n",
    "    model.fit(X_train, y_train)\n",
    "\n",
    "    # Avaliação\n",
    "    y_pred = model.predict(X_test)\n",
    "    accuracy = accuracy_score(y_test, y_pred)\n",
    "    print(f\"Acurácia: {accuracy:.4f}\")\n",
    "    print(\"Relatório de Classificação:\\n\", classification_report(y_test, y_pred))\n"
   ]
  },
  {
   "cell_type": "code",
   "execution_count": 30,
   "id": "8d1e0e0d",
   "metadata": {},
   "outputs": [
    {
     "name": "stdout",
     "output_type": "stream",
     "text": [
      "\n",
      " === Vetorização: BOW ===\n",
      "Acurácia: 0.8438\n",
      "Relatório de Classificação:\n",
      "               precision    recall  f1-score   support\n",
      "\n",
      "    negative       0.84      0.85      0.84      4939\n",
      "    positive       0.85      0.84      0.84      4978\n",
      "\n",
      "    accuracy                           0.84      9917\n",
      "   macro avg       0.84      0.84      0.84      9917\n",
      "weighted avg       0.84      0.84      0.84      9917\n",
      "\n",
      "\n",
      " === Vetorização: NGRAM ===\n",
      "Acurácia: 0.8483\n",
      "Relatório de Classificação:\n",
      "               precision    recall  f1-score   support\n",
      "\n",
      "    negative       0.85      0.84      0.85      4939\n",
      "    positive       0.84      0.86      0.85      4978\n",
      "\n",
      "    accuracy                           0.85      9917\n",
      "   macro avg       0.85      0.85      0.85      9917\n",
      "weighted avg       0.85      0.85      0.85      9917\n",
      "\n",
      "\n",
      " === Vetorização: TFIDF ===\n",
      "Acurácia: 0.8515\n",
      "Relatório de Classificação:\n",
      "               precision    recall  f1-score   support\n",
      "\n",
      "    negative       0.85      0.85      0.85      4939\n",
      "    positive       0.85      0.86      0.85      4978\n",
      "\n",
      "    accuracy                           0.85      9917\n",
      "   macro avg       0.85      0.85      0.85      9917\n",
      "weighted avg       0.85      0.85      0.85      9917\n",
      "\n"
     ]
    }
   ],
   "source": [
    "# Roda o treinamento e avaliação para cada vetorização\n",
    "for vec_type in vectorizations:\n",
    "    train_and_evaluate_model(vec_type)"
   ]
  }
 ],
 "metadata": {
  "kernelspec": {
   "display_name": "meu_ambiente",
   "language": "python",
   "name": "python3"
  },
  "language_info": {
   "codemirror_mode": {
    "name": "ipython",
    "version": 3
   },
   "file_extension": ".py",
   "mimetype": "text/x-python",
   "name": "python",
   "nbconvert_exporter": "python",
   "pygments_lexer": "ipython3",
   "version": "3.11.13"
  }
 },
 "nbformat": 4,
 "nbformat_minor": 5
}
