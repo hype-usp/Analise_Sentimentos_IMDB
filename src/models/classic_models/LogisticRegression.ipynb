{
 "cells": [
  {
   "cell_type": "markdown",
   "id": "fd3a7253",
   "metadata": {},
   "source": [
    "# Importação das Bibliotecas"
   ]
  },
  {
   "cell_type": "code",
   "execution_count": 1,
   "id": "c11be424",
   "metadata": {},
   "outputs": [],
   "source": [
    "import pickle\n",
    "from pathlib import Path\n",
    "from sklearn.linear_model import LogisticRegression\n",
    "from sklearn.metrics import classification_report, accuracy_score\n",
    "from sklearn.model_selection import GridSearchCV"
   ]
  },
  {
   "cell_type": "code",
   "execution_count": 2,
   "id": "167cbc3c",
   "metadata": {},
   "outputs": [],
   "source": [
    "# Definindo caminho padrão para o uso dos arquivos já vetorizados\n",
    "base_path = Path(\"../../../data/vectorized\")\n",
    "\n",
    "# Lista com os tipos de vetorização\n",
    "vectorizations = [\"bow\", \"ngram\", \"tfidf\"]"
   ]
  },
  {
   "cell_type": "markdown",
   "id": "ece0568c",
   "metadata": {},
   "source": [
    "# Definindo Funções para treino e avaliação do modelo"
   ]
  },
  {
   "cell_type": "code",
   "execution_count": 3,
   "id": "cc5a5149",
   "metadata": {},
   "outputs": [],
   "source": [
    "def load_pickle(file_path):\n",
    "    with open(file_path, \"rb\") as f:\n",
    "        return pickle.load(f)"
   ]
  },
  {
   "cell_type": "code",
   "execution_count": 4,
   "id": "e076216f",
   "metadata": {},
   "outputs": [],
   "source": [
    "def train_and_evaluate_model(vectorization_type):\n",
    "    print(f\"\\n === Vetorização: {vectorization_type} ===\")\n",
    "    \n",
    "    folder = base_path / vectorization_type\n",
    "    vectorizer, X_train, X_test = load_pickle(folder / f\"{vectorization_type}.pkl\")\n",
    "    y_train = load_pickle(folder / f\"y_train_{vectorization_type}.pkl\")\n",
    "    y_test = load_pickle(folder / f\"y_test_{vectorization_type}.pkl\")\n",
    "\n",
    "    param_grid = {'C': [0.01, 0.1, 1, 10, 100]}\n",
    "    grid = GridSearchCV(LogisticRegression(max_iter=1000), param_grid, cv=5)\n",
    "    grid.fit(X_train, y_train)\n",
    "\n",
    "    # Melhor modelo\n",
    "    best_model = grid.best_estimator_\n",
    "    print(\"Melhor valor de C:\", grid.best_params_)\n",
    "\n",
    "    # Avaliação\n",
    "    y_pred = best_model.predict(X_test)\n",
    "    accuracy = accuracy_score(y_test, y_pred)\n",
    "    print(f\"Acurácia: {accuracy:.4f}\")\n",
    "    print(\"Relatório de Classificação:\\n\", classification_report(y_test, y_pred))\n"
   ]
  },
  {
   "cell_type": "code",
   "execution_count": 5,
   "id": "8d1e0e0d",
   "metadata": {},
   "outputs": [
    {
     "name": "stdout",
     "output_type": "stream",
     "text": [
      "\n",
      " === Vetorização: bow ===\n",
      "Melhor valor de C: {'C': 0.1}\n",
      "Acurácia: 0.8803\n",
      "Relatório de Classificação:\n",
      "               precision    recall  f1-score   support\n",
      "\n",
      "    negative       0.89      0.87      0.88      4939\n",
      "    positive       0.87      0.89      0.88      4978\n",
      "\n",
      "    accuracy                           0.88      9917\n",
      "   macro avg       0.88      0.88      0.88      9917\n",
      "weighted avg       0.88      0.88      0.88      9917\n",
      "\n",
      "\n",
      " === Vetorização: ngram ===\n",
      "Melhor valor de C: {'C': 0.1}\n",
      "Acurácia: 0.8811\n",
      "Relatório de Classificação:\n",
      "               precision    recall  f1-score   support\n",
      "\n",
      "    negative       0.89      0.87      0.88      4939\n",
      "    positive       0.87      0.89      0.88      4978\n",
      "\n",
      "    accuracy                           0.88      9917\n",
      "   macro avg       0.88      0.88      0.88      9917\n",
      "weighted avg       0.88      0.88      0.88      9917\n",
      "\n",
      "\n",
      " === Vetorização: tfidf ===\n",
      "Melhor valor de C: {'C': 1}\n",
      "Acurácia: 0.8845\n",
      "Relatório de Classificação:\n",
      "               precision    recall  f1-score   support\n",
      "\n",
      "    negative       0.90      0.87      0.88      4939\n",
      "    positive       0.87      0.90      0.89      4978\n",
      "\n",
      "    accuracy                           0.88      9917\n",
      "   macro avg       0.89      0.88      0.88      9917\n",
      "weighted avg       0.88      0.88      0.88      9917\n",
      "\n"
     ]
    }
   ],
   "source": [
    "# Roda o treinamento e avaliação para cada vetorização\n",
    "for vec_type in vectorizations:\n",
    "    train_and_evaluate_model(vec_type)"
   ]
  }
 ],
 "metadata": {
  "kernelspec": {
   "display_name": "meu_ambiente",
   "language": "python",
   "name": "python3"
  },
  "language_info": {
   "codemirror_mode": {
    "name": "ipython",
    "version": 3
   },
   "file_extension": ".py",
   "mimetype": "text/x-python",
   "name": "python",
   "nbconvert_exporter": "python",
   "pygments_lexer": "ipython3",
   "version": "3.11.13"
  }
 },
 "nbformat": 4,
 "nbformat_minor": 5
}
