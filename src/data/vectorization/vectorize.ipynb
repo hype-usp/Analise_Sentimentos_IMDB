{
 "cells": [
  {
   "cell_type": "markdown",
   "id": "e3911800",
   "metadata": {},
   "source": [
    "# Importação das Bibliotecas\n",
    "- pickle: Biblioteca padrão do Python para serialização e desserialização de objetos\n",
    "- pathlib: Interface orientada a objetos para trabalhar com caminhos de arquivos e diretórios\n",
    "- sklearn: Biblioteca com modelos, pré-processamento, avaliação e otimazação "
   ]
  },
  {
   "cell_type": "code",
   "execution_count": 9,
   "id": "480e5def",
   "metadata": {},
   "outputs": [],
   "source": [
    "import pickle \n",
    "import pandas as pd\n",
    "import numpy as np\n",
    "import ast\n",
    "from pathlib import Path \n",
    "from sklearn.model_selection import train_test_split\n",
    "from sklearn.feature_extraction.text import CountVectorizer, TfidfVectorizer\n",
    "from gensim.models import Word2Vec\n",
    "import spacy\n",
    "nlp = spacy.load(\"en_core_web_sm\", disable=[\"ner\", \"parser\"])"
   ]
  },
  {
   "cell_type": "markdown",
   "id": "b882c4b1",
   "metadata": {},
   "source": [
    "# Separação entre dados de treino e dados de teste"
   ]
  },
  {
   "cell_type": "code",
   "execution_count": 10,
   "id": "63ab3821",
   "metadata": {},
   "outputs": [
    {
     "name": "stdout",
     "output_type": "stream",
     "text": [
      "Index(['review', 'sentiment', 'clean_review', 'tokens'], dtype='object')\n",
      "<class 'str'>\n",
      "<class 'list'>\n"
     ]
    }
   ],
   "source": [
    "df = pd.read_csv(\"../../data/processed/IMDB_cleaned_SpaCy.csv\")\n",
    "\n",
    "print(df.columns)                 \n",
    "print(type(df['tokens'][0])) # Problema: está em formato de string, deve se converter para lista com strings\n",
    "\n",
    "df['tokens'] = df['tokens'].apply(ast.literal_eval)\n",
    "print(type(df['tokens'][0]))"
   ]
  },
  {
   "cell_type": "code",
   "execution_count": 11,
   "id": "9ef09d4c",
   "metadata": {},
   "outputs": [],
   "source": [
    "df = pd.read_csv(\"../../data/processed/IMDB_cleaned_SpaCy.csv\")\n",
    "X = df['tokens']  \n",
    "y = df['sentiment']\n",
    "\n",
    "X_train, X_test, y_train, y_test = train_test_split(\n",
    "    X, y, test_size=0.2, random_state=42\n",
    ")\n",
    "\n",
    "# Cria uma pasta para salvar os arquivos vetorizados\n",
    "save_path = Path(\"../../data/vectorized\")\n",
    "save_path.mkdir(parents=True, exist_ok=True)"
   ]
  },
  {
   "cell_type": "code",
   "execution_count": 12,
   "id": "bee32b36",
   "metadata": {},
   "outputs": [],
   "source": [
    "def save_vector(vectorization_type):\n",
    "    (save_path / f\"{vectorization_type}\").mkdir(parents=True, exist_ok=True)\n",
    "    pickle.dump((vectorization_type, X_train_vector, X_test_vector), open(save_path / f\"{vectorization_type}\" / f\"{vectorization_type}.pkl\", \"wb\"))\n",
    "    pickle.dump(y_train, open(save_path / f\"{vectorization_type}\" / f\"y_train_{vectorization_type}.pkl\", \"wb\"))\n",
    "    pickle.dump(y_test, open(save_path / f\"{vectorization_type}\" / f\"y_test_{vectorization_type}.pkl\", \"wb\"))\n"
   ]
  },
  {
   "cell_type": "markdown",
   "id": "cc12f2b0",
   "metadata": {},
   "source": [
    "# Vetorização\n",
    "- Bag of Words\n",
    "- TF-IDF\n",
    "- N-grams\n",
    "- Word2vec"
   ]
  },
  {
   "cell_type": "code",
   "execution_count": 13,
   "id": "20adfbc4",
   "metadata": {},
   "outputs": [],
   "source": [
    "# Bag of Words: Vetorização e salvamento dos arquivos\n",
    "bow_vectorizer = CountVectorizer(max_features=10000)\n",
    "X_train_vector = bow_vectorizer.fit_transform(X_train)\n",
    "X_test_vector = bow_vectorizer.transform(X_test)\n",
    "\n",
    "save_vector(\"bow\")"
   ]
  },
  {
   "cell_type": "code",
   "execution_count": 14,
   "id": "c7106557",
   "metadata": {},
   "outputs": [],
   "source": [
    "# TF-IDF: Vetorização e salvamento dos arquivos\n",
    "tfidf_vectorizer = TfidfVectorizer(max_features=10000)\n",
    "X_train_vector = tfidf_vectorizer.fit_transform(X_train)\n",
    "X_test_vector = tfidf_vectorizer.transform(X_test)\n",
    "\n",
    "save_vector(\"tfidf\")"
   ]
  },
  {
   "cell_type": "code",
   "execution_count": 15,
   "id": "5a46ea28",
   "metadata": {},
   "outputs": [],
   "source": [
    "# N-grams (bigrama): Vetorização e salvamento dos arquivos\n",
    "ngram_vectorizer = CountVectorizer(max_features=10000, ngram_range=(1, 2))\n",
    "X_train_vector = ngram_vectorizer.fit_transform(X_train)\n",
    "X_test_vector = ngram_vectorizer.transform(X_test)\n",
    "\n",
    "save_vector(\"ngram\")"
   ]
  },
  {
   "cell_type": "code",
   "execution_count": 16,
   "id": "7f207d2c",
   "metadata": {},
   "outputs": [],
   "source": [
    "# Treinar modelo Word2Vec: máximo de 100 dimensões, 5 palavras de contexto na esquerda e direita, \n",
    "# ignora palavras que aparecem menos de 2 vezes, usa 4 threads para acelerar o treino, usa Skip-gram\n",
    "w2v_model = Word2Vec(sentences=X_train, vector_size=100, window=5, min_count=2, workers=4, sg=1)  \n",
    "\n",
    "# Função para vetorizar cada sentença (média dos vetores das palavras): obtém um único vetor fixo para a frase\n",
    "def vectorize(tokens, model):\n",
    "    vectors = [model.wv[token] for token in tokens if token in model.wv]\n",
    "    if vectors:\n",
    "        return np.mean(vectors, axis=0) \n",
    "    else:\n",
    "        return np.zeros(model.vector_size)\n",
    "\n",
    "# Aplicar a vetorização no treino e teste\n",
    "X_train_word2vec = np.vstack([vectorize(tokens, w2v_model) for tokens in X_train])\n",
    "X_test_word2vec = np.vstack([vectorize(tokens, w2v_model) for tokens in X_test])\n",
    "\n",
    "save_vector(\"word2vec\")"
   ]
  }
 ],
 "metadata": {
  "kernelspec": {
   "display_name": "meu_ambiente",
   "language": "python",
   "name": "python3"
  },
  "language_info": {
   "codemirror_mode": {
    "name": "ipython",
    "version": 3
   },
   "file_extension": ".py",
   "mimetype": "text/x-python",
   "name": "python",
   "nbconvert_exporter": "python",
   "pygments_lexer": "ipython3",
   "version": "3.11.13"
  }
 },
 "nbformat": 4,
 "nbformat_minor": 5
}
