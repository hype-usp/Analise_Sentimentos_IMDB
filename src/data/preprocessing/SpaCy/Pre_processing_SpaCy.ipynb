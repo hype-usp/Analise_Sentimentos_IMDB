{
  "cells": [
    {
      "cell_type": "markdown",
      "metadata": {
        "id": "DcT2blGFxWyu"
      },
      "source": [
        "# Importação de Bibliotecas e Leitura Dataset"
      ]
    },
    {
      "cell_type": "code",
      "execution_count": 3,
      "metadata": {
        "id": "s4YJAua0x83M"
      },
      "outputs": [],
      "source": [
        "import pandas as pd\n",
        "import spacy # Biblioteca de Processamento de Linguagem Natural\n",
        "import re # Módulo Python para trabalhar com Regex\n",
        "import contractions # Biblioteca para expansão de contrações\n",
        "import unidecode # Biblioteca para transliteração de caracteres Unicode em ASCII\n",
        "from collections import Counter"
      ]
    },
    {
      "cell_type": "code",
      "execution_count": 4,
      "metadata": {
        "colab": {
          "base_uri": "https://localhost:8080/",
          "height": 261
        },
        "id": "Hn7ukFsOxOiH",
        "outputId": "5952524d-2d09-4a88-eeab-b180506c5803"
      },
      "outputs": [
        {
          "name": "stdout",
          "output_type": "stream",
          "text": [
            "Dimensões do dataframe:  (50000, 2)\n",
            "Colunas do dataframe:  Index(['review', 'sentiment'], dtype='object')\n",
            "Tipo da coluna Rewiew:  <class 'str'>\n",
            "Tipo da coluna Sentiment:  <class 'str'>\n",
            "Número de linhas duplicadas: 418\n",
            "Número de valores ausentes:  review       0\n",
            "sentiment    0\n",
            "dtype: int64\n"
          ]
        },
        {
          "data": {
            "text/html": [
              "<div>\n",
              "<style scoped>\n",
              "    .dataframe tbody tr th:only-of-type {\n",
              "        vertical-align: middle;\n",
              "    }\n",
              "\n",
              "    .dataframe tbody tr th {\n",
              "        vertical-align: top;\n",
              "    }\n",
              "\n",
              "    .dataframe thead th {\n",
              "        text-align: right;\n",
              "    }\n",
              "</style>\n",
              "<table border=\"1\" class=\"dataframe\">\n",
              "  <thead>\n",
              "    <tr style=\"text-align: right;\">\n",
              "      <th></th>\n",
              "      <th>review</th>\n",
              "      <th>sentiment</th>\n",
              "    </tr>\n",
              "  </thead>\n",
              "  <tbody>\n",
              "    <tr>\n",
              "      <th>0</th>\n",
              "      <td>One of the other reviewers has mentioned that ...</td>\n",
              "      <td>positive</td>\n",
              "    </tr>\n",
              "    <tr>\n",
              "      <th>1</th>\n",
              "      <td>A wonderful little production. &lt;br /&gt;&lt;br /&gt;The...</td>\n",
              "      <td>positive</td>\n",
              "    </tr>\n",
              "    <tr>\n",
              "      <th>2</th>\n",
              "      <td>I thought this was a wonderful way to spend ti...</td>\n",
              "      <td>positive</td>\n",
              "    </tr>\n",
              "    <tr>\n",
              "      <th>3</th>\n",
              "      <td>Basically there's a family where a little boy ...</td>\n",
              "      <td>negative</td>\n",
              "    </tr>\n",
              "    <tr>\n",
              "      <th>4</th>\n",
              "      <td>Petter Mattei's \"Love in the Time of Money\" is...</td>\n",
              "      <td>positive</td>\n",
              "    </tr>\n",
              "  </tbody>\n",
              "</table>\n",
              "</div>"
            ],
            "text/plain": [
              "                                              review sentiment\n",
              "0  One of the other reviewers has mentioned that ...  positive\n",
              "1  A wonderful little production. <br /><br />The...  positive\n",
              "2  I thought this was a wonderful way to spend ti...  positive\n",
              "3  Basically there's a family where a little boy ...  negative\n",
              "4  Petter Mattei's \"Love in the Time of Money\" is...  positive"
            ]
          },
          "execution_count": 4,
          "metadata": {},
          "output_type": "execute_result"
        }
      ],
      "source": [
        "# Descrição do Dataset de Review de Filmes no IMDB em língua inglesa\n",
        "df = pd.read_csv(\"../../../data/raw/IMDB Dataset.csv\")\n",
        "print(\"Dimensões do dataframe: \", df.shape)\n",
        "print(\"Colunas do dataframe: \", df.columns)\n",
        "print(\"Tipo da coluna Rewiew: \", type(df['review'].iloc[0]))\n",
        "print(\"Tipo da coluna Sentiment: \", type(df['sentiment'].iloc[0]))\n",
        "print(\"Número de linhas duplicadas:\", df.duplicated().sum())\n",
        "print(\"Número de valores ausentes: \", df.isnull().sum())\n",
        "df.head()"
      ]
    },
    {
      "cell_type": "markdown",
      "metadata": {},
      "source": [
        "# Pré-processamento\n",
        "- Remoção das reviews duplicadas\n",
        "- Remoção de Tags HTML e contrações\n",
        "- Colocar tudo em letras minúsculas\n",
        "- Remoção de pontuações, números e acentos\n",
        "- Remoção de stopwords\n",
        "- Lematização\n",
        "- Tokenização"
      ]
    },
    {
      "cell_type": "code",
      "execution_count": 5,
      "metadata": {},
      "outputs": [
        {
          "name": "stdout",
          "output_type": "stream",
          "text": [
            "<class 'pandas.core.frame.DataFrame'>\n",
            "RangeIndex: 49582 entries, 0 to 49581\n",
            "Data columns (total 2 columns):\n",
            " #   Column     Non-Null Count  Dtype \n",
            "---  ------     --------------  ----- \n",
            " 0   review     49582 non-null  object\n",
            " 1   sentiment  49582 non-null  object\n",
            "dtypes: object(2)\n",
            "memory usage: 774.8+ KB\n",
            "None \n",
            "\n",
            "                                                   review sentiment\n",
            "count                                               49582     49582\n",
            "unique                                              49582         2\n",
            "top     One of the other reviewers has mentioned that ...  positive\n",
            "freq                                                    1     24884 \n",
            "\n"
          ]
        }
      ],
      "source": [
        "# 49.582 reviews em 50.000 linhas -> tem 418 duplicadas\n",
        "df = df.drop_duplicates(subset='review').reset_index(drop=True)\n",
        "print(df.info(), '\\n')\n",
        "print(df.describe(), '\\n')"
      ]
    },
    {
      "cell_type": "code",
      "execution_count": 6,
      "metadata": {
        "colab": {
          "base_uri": "https://localhost:8080/"
        },
        "id": "CVHn7uixxj3y",
        "outputId": "412f2ed4-9a71-478f-bcd5-a3aeb7469b93"
      },
      "outputs": [],
      "source": [
        "# Carregar modelo SpaCy em Inglês\n",
        "nlp = spacy.load(\"en_core_web_sm\", disable=[\"ner\", \"parser\"])\n",
        "\n",
        "# Função de pré-processamento\n",
        "def preprocess_text(text):\n",
        "    # Remove tags HTML\n",
        "    text = re.sub(r\"<.*?>\", \"\", text)\n",
        "    # Remove contrações\n",
        "    text = contractions.fix(text)\n",
        "    # Normaliza acentos\n",
        "    text = unidecode.unidecode(text)  \n",
        "    # Processa o texto com SpaCy\n",
        "    doc = nlp(text)\n",
        "    # Lematiza, coloca lowercase, remove stop words, pontuação e simbolos que não são letras\n",
        "    tokens = [\n",
        "        token.lemma_.lower() for token in doc\n",
        "        if not token.is_stop and not token.is_punct and token.is_alpha\n",
        "    ]\n",
        "    return \" \".join(tokens), tokens\n",
        "\n",
        "df[[\"clean_review\", \"tokens\"]] = df[\"review\"].apply(lambda x: pd.Series(preprocess_text(x)))"
      ]
    },
    {
      "cell_type": "code",
      "execution_count": 7,
      "metadata": {},
      "outputs": [],
      "source": [
        "# Calcular a frequência de todas as palavras no corpus\n",
        "all_tokens = [token for tokens_list in df['tokens'] for token in tokens_list]\n",
        "token_freq = Counter(all_tokens)\n",
        "\n",
        "# Definir um limite mínimo de frequência\n",
        "min_freq = 50\n",
        "\n",
        "# Função para filtrar tokens com frequência mínima\n",
        "def filter_low_freq_tokens(tokens_list):\n",
        "    return [token for token in tokens_list if token_freq[token] >= min_freq]\n",
        "\n",
        "# Aplicar a filtragem à coluna 'tokens'\n",
        "df['tokens'] = df['tokens'].apply(filter_low_freq_tokens)\n",
        "\n",
        "# Atualizar a coluna 'clean_review' com os tokens filtrados\n",
        "df['clean_review'] = df['tokens'].apply(lambda x: ' '.join(x))"
      ]
    },
    {
      "cell_type": "code",
      "execution_count": 8,
      "metadata": {},
      "outputs": [
        {
          "name": "stdout",
          "output_type": "stream",
          "text": [
            "Pré-processamento com tokenização finalizado e salvo em 'IMDB_cleaned_SpaCy.csv'\n"
          ]
        }
      ],
      "source": [
        "# Salvar o novo arquivo\n",
        "df.to_csv(\"../../../data/processed/IMDB_cleaned_SpaCy.csv\", index=False)\n",
        "\n",
        "print(\"Pré-processamento com tokenização finalizado e salvo em 'IMDB_cleaned_SpaCy.csv'\")"
      ]
    },
    {
      "cell_type": "markdown",
      "metadata": {},
      "source": [
        "# CSV processado\n",
        "Esse CSV gerado a partir do pré-processamento possui duas colunas principais:\n",
        "- Coluna \"clean_review\": formato com apenas texto, que podem ser usados para conversão de vetores numéricos como Bag of Words, TF-IDF e n-grams.\n",
        "- Coluna \"tokens': formato com apenas sequências de tokens, que são ideais para embeddings e treinamento de modelos de deep learning"
      ]
    },
    {
      "cell_type": "code",
      "execution_count": 9,
      "metadata": {},
      "outputs": [
        {
          "name": "stdout",
          "output_type": "stream",
          "text": [
            "Dimensões do dataframe:  (49582, 4)\n",
            "Colunas do dataframe:  Index(['review', 'sentiment', 'clean_review', 'tokens'], dtype='object')\n"
          ]
        },
        {
          "data": {
            "text/html": [
              "<div>\n",
              "<style scoped>\n",
              "    .dataframe tbody tr th:only-of-type {\n",
              "        vertical-align: middle;\n",
              "    }\n",
              "\n",
              "    .dataframe tbody tr th {\n",
              "        vertical-align: top;\n",
              "    }\n",
              "\n",
              "    .dataframe thead th {\n",
              "        text-align: right;\n",
              "    }\n",
              "</style>\n",
              "<table border=\"1\" class=\"dataframe\">\n",
              "  <thead>\n",
              "    <tr style=\"text-align: right;\">\n",
              "      <th></th>\n",
              "      <th>review</th>\n",
              "      <th>sentiment</th>\n",
              "      <th>clean_review</th>\n",
              "      <th>tokens</th>\n",
              "    </tr>\n",
              "  </thead>\n",
              "  <tbody>\n",
              "    <tr>\n",
              "      <th>0</th>\n",
              "      <td>One of the other reviewers has mentioned that ...</td>\n",
              "      <td>positive</td>\n",
              "      <td>reviewer mention watch oz episode hook right e...</td>\n",
              "      <td>['reviewer', 'mention', 'watch', 'oz', 'episod...</td>\n",
              "    </tr>\n",
              "    <tr>\n",
              "      <th>1</th>\n",
              "      <td>A wonderful little production. &lt;br /&gt;&lt;br /&gt;The...</td>\n",
              "      <td>positive</td>\n",
              "      <td>wonderful little production film technique old...</td>\n",
              "      <td>['wonderful', 'little', 'production', 'film', ...</td>\n",
              "    </tr>\n",
              "    <tr>\n",
              "      <th>2</th>\n",
              "      <td>I thought this was a wonderful way to spend ti...</td>\n",
              "      <td>positive</td>\n",
              "      <td>think wonderful way spend time hot summer week...</td>\n",
              "      <td>['think', 'wonderful', 'way', 'spend', 'time',...</td>\n",
              "    </tr>\n",
              "    <tr>\n",
              "      <th>3</th>\n",
              "      <td>Basically there's a family where a little boy ...</td>\n",
              "      <td>negative</td>\n",
              "      <td>basically family little boy jake think zombie ...</td>\n",
              "      <td>['basically', 'family', 'little', 'boy', 'jake...</td>\n",
              "    </tr>\n",
              "    <tr>\n",
              "      <th>4</th>\n",
              "      <td>Petter Mattei's \"Love in the Time of Money\" is...</td>\n",
              "      <td>positive</td>\n",
              "      <td>mattei love time money visually stunning film ...</td>\n",
              "      <td>['mattei', 'love', 'time', 'money', 'visually'...</td>\n",
              "    </tr>\n",
              "  </tbody>\n",
              "</table>\n",
              "</div>"
            ],
            "text/plain": [
              "                                              review sentiment  \\\n",
              "0  One of the other reviewers has mentioned that ...  positive   \n",
              "1  A wonderful little production. <br /><br />The...  positive   \n",
              "2  I thought this was a wonderful way to spend ti...  positive   \n",
              "3  Basically there's a family where a little boy ...  negative   \n",
              "4  Petter Mattei's \"Love in the Time of Money\" is...  positive   \n",
              "\n",
              "                                        clean_review  \\\n",
              "0  reviewer mention watch oz episode hook right e...   \n",
              "1  wonderful little production film technique old...   \n",
              "2  think wonderful way spend time hot summer week...   \n",
              "3  basically family little boy jake think zombie ...   \n",
              "4  mattei love time money visually stunning film ...   \n",
              "\n",
              "                                              tokens  \n",
              "0  ['reviewer', 'mention', 'watch', 'oz', 'episod...  \n",
              "1  ['wonderful', 'little', 'production', 'film', ...  \n",
              "2  ['think', 'wonderful', 'way', 'spend', 'time',...  \n",
              "3  ['basically', 'family', 'little', 'boy', 'jake...  \n",
              "4  ['mattei', 'love', 'time', 'money', 'visually'...  "
            ]
          },
          "execution_count": 9,
          "metadata": {},
          "output_type": "execute_result"
        }
      ],
      "source": [
        "df_processado = pd.read_csv(\"../../../data/processed/IMDB_cleaned_SpaCy.csv\")\n",
        "print(\"Dimensões do dataframe: \", df_processado.shape)\n",
        "print(\"Colunas do dataframe: \", df_processado.columns)\n",
        "df_processado.head()"
      ]
    }
  ],
  "metadata": {
    "colab": {
      "provenance": []
    },
    "kernelspec": {
      "display_name": "meu_ambiente",
      "language": "python",
      "name": "python3"
    },
    "language_info": {
      "codemirror_mode": {
        "name": "ipython",
        "version": 3
      },
      "file_extension": ".py",
      "mimetype": "text/x-python",
      "name": "python",
      "nbconvert_exporter": "python",
      "pygments_lexer": "ipython3",
      "version": "3.11.13"
    }
  },
  "nbformat": 4,
  "nbformat_minor": 0
}
