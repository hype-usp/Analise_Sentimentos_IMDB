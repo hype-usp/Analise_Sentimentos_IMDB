{
  "cells": [
    {
      "cell_type": "markdown",
      "metadata": {},
      "source": [
        "# Importação de Bibliotecas e Leitura do Dataset"
      ]
    },
    {
      "cell_type": "code",
      "execution_count": null,
      "metadata": {
        "id": "dI3n1_mSc6m8"
      },
      "outputs": [
        {
          "name": "stderr",
          "output_type": "stream",
          "text": [
            "[nltk_data] Downloading package punkt to\n",
            "[nltk_data]     C:\\Users\\55119\\AppData\\Roaming\\nltk_data...\n",
            "[nltk_data]   Package punkt is already up-to-date!\n",
            "[nltk_data] Downloading package punkt_tab to\n",
            "[nltk_data]     C:\\Users\\55119\\AppData\\Roaming\\nltk_data...\n",
            "[nltk_data]   Package punkt_tab is already up-to-date!\n",
            "[nltk_data] Downloading package stopwords to\n",
            "[nltk_data]     C:\\Users\\55119\\AppData\\Roaming\\nltk_data...\n",
            "[nltk_data]   Package stopwords is already up-to-date!\n",
            "[nltk_data] Downloading package wordnet to\n",
            "[nltk_data]     C:\\Users\\55119\\AppData\\Roaming\\nltk_data...\n",
            "[nltk_data]   Package wordnet is already up-to-date!\n"
          ]
        },
        {
          "data": {
            "text/plain": [
              "True"
            ]
          },
          "execution_count": 3,
          "metadata": {},
          "output_type": "execute_result"
        }
      ],
      "source": [
        "import pandas as pd\n",
        "import numpy as np\n",
        "import re\n",
        "\n",
        "# Biblioteca NLTK\n",
        "import nltk\n",
        "from nltk.corpus import stopwords\n",
        "from nltk.stem import WordNetLemmatizer\n",
        "from nltk.tokenize import word_tokenize\n",
        "\n",
        "nltk.download('punkt')\n",
        "nltk.download('punkt_tab')\n",
        "nltk.download('stopwords')\n",
        "nltk.download('wordnet')"
      ]
    },
    {
      "cell_type": "code",
      "execution_count": 4,
      "metadata": {
        "colab": {
          "base_uri": "https://localhost:8080/"
        },
        "id": "lFy_ket_dBOo",
        "outputId": "373c62da-0bc2-45c9-86b7-67da4bfd001e"
      },
      "outputs": [
        {
          "name": "stdout",
          "output_type": "stream",
          "text": [
            "                                              review sentiment\n",
            "0  One of the other reviewers has mentioned that ...  positive\n",
            "1  A wonderful little production. <br /><br />The...  positive\n",
            "2  I thought this was a wonderful way to spend ti...  positive\n",
            "3  Basically there's a family where a little boy ...  negative\n",
            "4  Petter Mattei's \"Love in the Time of Money\" is...  positive\n",
            "5  Probably my all-time favorite movie, a story o...  positive\n",
            "6  I sure would like to see a resurrection of a u...  positive\n",
            "7  This show was an amazing, fresh & innovative i...  negative\n",
            "8  Encouraged by the positive comments about this...  negative\n",
            "9  If you like original gut wrenching laughter yo...  positive \n",
            "\n",
            "<class 'pandas.core.frame.DataFrame'>\n",
            "RangeIndex: 50000 entries, 0 to 49999\n",
            "Data columns (total 2 columns):\n",
            " #   Column     Non-Null Count  Dtype \n",
            "---  ------     --------------  ----- \n",
            " 0   review     50000 non-null  object\n",
            " 1   sentiment  50000 non-null  object\n",
            "dtypes: object(2)\n",
            "memory usage: 781.4+ KB\n",
            "None \n",
            "\n",
            "                                                   review sentiment\n",
            "count                                               50000     50000\n",
            "unique                                              49582         2\n",
            "top     Loved today's show!!! It was a variety and not...  positive\n",
            "freq                                                    5     25000 \n",
            "\n",
            "review       0\n",
            "sentiment    0\n",
            "dtype: int64 \n",
            "\n",
            "sentiment\n",
            "positive    25000\n",
            "negative    25000\n",
            "Name: count, dtype: int64\n"
          ]
        }
      ],
      "source": [
        "df = pd.read_csv(\"../../../data/raw/IMDB Dataset.csv\")\n",
        "\n",
        "print(df.head(10), '\\n')\n",
        "print(df.info(), '\\n')\n",
        "print(df.describe(), '\\n')\n",
        "print(df.isnull().sum(), '\\n')\n",
        "print(df['sentiment'].value_counts())"
      ]
    },
    {
      "cell_type": "code",
      "execution_count": null,
      "metadata": {
        "colab": {
          "base_uri": "https://localhost:8080/"
        },
        "id": "KmTalaY94cuz",
        "outputId": "c121072e-7138-41b0-ef81-d604630c174a"
      },
      "outputs": [
        {
          "name": "stdout",
          "output_type": "stream",
          "text": [
            "<class 'pandas.core.frame.DataFrame'>\n",
            "RangeIndex: 49582 entries, 0 to 49581\n",
            "Data columns (total 2 columns):\n",
            " #   Column     Non-Null Count  Dtype \n",
            "---  ------     --------------  ----- \n",
            " 0   review     49582 non-null  object\n",
            " 1   sentiment  49582 non-null  object\n",
            "dtypes: object(2)\n",
            "memory usage: 774.8+ KB\n",
            "None \n",
            "\n",
            "                                                   review sentiment\n",
            "count                                               49582     49582\n",
            "unique                                              49582         2\n",
            "top     No one expects the Star Trek movies to be high...  positive\n",
            "freq                                                    1     24884 \n",
            "\n"
          ]
        }
      ],
      "source": [
        "# 49.582 reviews em 50.000 linhas -> tem 418 duplicadas\n",
        "df = df.drop_duplicates(subset='review').reset_index(drop=True)\n",
        "print(df.info(), '\\n')\n",
        "print(df.describe(), '\\n')"
      ]
    },
    {
      "cell_type": "markdown",
      "metadata": {
        "id": "GA0t15j0dLap"
      },
      "source": [
        "# **Pré-processamento**\n",
        "\n",
        "1. Limpeza de texto -> remover elmentos não textuais, como numeros, pontuação, caracteres especiais...\n",
        "\n",
        "2. Conversão para minúsculas -> padronizar todo o texto em letras minusculas, a fim de evitar que \"Texto\" seja diferente de \"texto\"\n",
        "\n",
        "3. Remoção de stopwords -> remover palavras que nao agrega tanto significado semantico (\"the\", \"and\", \"a\"\n",
        "\n",
        "4. Lematização ->  reduzir as palavras à sua raiz, envolve a remoção dos sufixos das palavras, por exemplo: filming seria derivada de film\n",
        "\n",
        "\n",
        "5. Tokenização ->  Dividir o texto em unidades menores (tokens), que podem ser palavras, frases ou outros elementos.\n",
        "\n",
        "\n",
        "\n",
        "\n",
        "\n",
        "- https://www.datacamp.com/pt/tutorial/text-analytics-beginners-nltk\n",
        "\n",
        "- https://medium.com/@khalidassalafy/sentiment-analysis-with-nltk-4afbb0bf6a49  \n",
        "\n"
      ]
    },
    {
      "cell_type": "code",
      "execution_count": 7,
      "metadata": {
        "colab": {
          "base_uri": "https://localhost:8080/"
        },
        "id": "TK3KBwZrgmtK",
        "outputId": "53502ba0-9255-4b00-f200-8aa539c5d14c"
      },
      "outputs": [
        {
          "name": "stdout",
          "output_type": "stream",
          "text": [
            "                                              review  \\\n",
            "0  One of the other reviewers has mentioned that ...   \n",
            "1  A wonderful little production. <br /><br />The...   \n",
            "2  I thought this was a wonderful way to spend ti...   \n",
            "3  Basically there's a family where a little boy ...   \n",
            "4  Petter Mattei's \"Love in the Time of Money\" is...   \n",
            "\n",
            "                                    processed_review  \n",
            "0  one reviewer mentioned watching oz episode you...  \n",
            "1  wonderful little production filming technique ...  \n",
            "2  thought wonderful way spend time hot summer we...  \n",
            "3  basically there family little boy jake think t...  \n",
            "4  petter matteis love time money visually stunni...  \n"
          ]
        }
      ],
      "source": [
        "\n",
        "stop_words = set(stopwords.words('english'))\n",
        "lemmatizer = WordNetLemmatizer()\n",
        "\n",
        "# Função de limpeza completa\n",
        "def clean_dataFrame(text):\n",
        "    text = re.sub(r'<.*?>', '', text)     # remove tags html\n",
        "    text = re.sub(r'[^\\w\\s]', '', text)   # remove pontuacao\n",
        "    text = re.sub(r'\\d+', '', text)       # remove numeros\n",
        "    text = re.sub(r'\\s+', ' ', text)      # remove espacos em branco\n",
        "    text = text.lower()                   # converte tudo para minusculas\n",
        "    tokens = word_tokenize(text)          # tranforma em tokens\n",
        "    tokens = [lemmatizer.lemmatize(word) for word in tokens if word not in stop_words]  #remove stopwords e lematiza\n",
        "    return ' '.join(tokens)\n",
        "\n",
        "df['processed_review'] = df['review'].apply(clean_dataFrame)\n",
        "df.to_csv(\"../../../data/processed/IMDB_cleaned_NLTK.csv\", index=False)\n",
        "print(df[['review', 'processed_review']].head())\n"
      ]
    }
  ],
  "metadata": {
    "colab": {
      "provenance": []
    },
    "kernelspec": {
      "display_name": "Python 3",
      "language": "python",
      "name": "python3"
    },
    "language_info": {
      "codemirror_mode": {
        "name": "ipython",
        "version": 3
      },
      "file_extension": ".py",
      "mimetype": "text/x-python",
      "name": "python",
      "nbconvert_exporter": "python",
      "pygments_lexer": "ipython3",
      "version": "3.13.1"
    }
  },
  "nbformat": 4,
  "nbformat_minor": 0
}
